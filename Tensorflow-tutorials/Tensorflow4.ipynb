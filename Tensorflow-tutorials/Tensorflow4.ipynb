{
 "cells": [
  {
   "attachments": {},
   "cell_type": "markdown",
   "metadata": {},
   "source": [
    "# Introducing the Keras Sequential API on Vertex AI Platform"
   ]
  },
  {
   "attachments": {},
   "cell_type": "markdown",
   "metadata": {},
   "source": [
    "Learning Objectives:\n",
    "1. Build a DNN model using the Keras Squential API\n",
    "2. Learn how to use feature columns in a keras model\n",
    "3. Learn how to train a model with keras\n",
    "4. Learn how to save/load, and deploy a Keras model on GCP\n",
    "5. Learn how to deploy the Model to Vertex AI and make predictions with the Keras model"
   ]
  },
  {
   "attachments": {},
   "cell_type": "markdown",
   "metadata": {},
   "source": [
    "### Introduction"
   ]
  },
  {
   "attachments": {},
   "cell_type": "markdown",
   "metadata": {},
   "source": [
    "The Keras sequential api allows you to create Tensorflow models layer by layer. This is useful for building most kinds of machine learning models but it does nto allow you to create models that share layers, re-use layers or have multiple inputs or outputs.\n",
    "\n",
    "In this lab, we'll see how to build a simple deep neural network model using keras sequential api and feature columns. Once we have trained our model, we will deploy it using vertex ai and see how to call our model foro online prediction.\n"
   ]
  },
  {
   "cell_type": "code",
   "execution_count": 18,
   "metadata": {},
   "outputs": [
    {
     "name": "stdout",
     "output_type": "stream",
     "text": [
      "2.12.0\n"
     ]
    }
   ],
   "source": [
    "import datetime\n",
    "import os\n",
    "import shutil\n",
    "\n",
    "import numpy as np\n",
    "import pandas as pd\n",
    "import tensorflow as tf\n",
    "from matplotlib import pyplot as plt\n",
    "from tensorflow import keras\n",
    "from tensorflow.keras.callbacks import TensorBoard\n",
    "from tensorflow.keras.layers import Dense, DenseFeatures\n",
    "from tensorflow.keras.models import Sequential\n",
    "\n",
    "print(tf.__version__)\n",
    "%matplotlib inline"
   ]
  },
  {
   "cell_type": "code",
   "execution_count": 2,
   "metadata": {},
   "outputs": [],
   "source": [
    "CSV_COLUMNS = [\n",
    "    'fare_amount',\n",
    "    'pickup_datetime',\n",
    "    'pickup_longitude',\n",
    "    'pickup_latitude',\n",
    "    'dropoff_longitude',\n",
    "    'dropoff_latitude',\n",
    "    'passenger_count',\n",
    "    'trips_last_5min',\n",
    "    'key'\n",
    "]\n",
    "\n",
    "LABEL_COLUMN = 'fare_amount'\n",
    "\n",
    "DEFAULTS = [[0.0], ['na'], [0.0], [0.0], [0.0], [0.0], [0.0], [0.0], ['na']]\n",
    "\n",
    "UNWANTED_COLS = ['pickup_datetime', 'key', 'trips_last_5min']\n",
    "\n",
    "def features_and_labels(row_data):\n",
    "    label = row_data.pop(LABEL_COLUMN)\n",
    "    features = row_data\n",
    "\n",
    "    for unwanted_col in UNWANTED_COLS:\n",
    "        features.pop(unwanted_col)\n",
    "    \n",
    "    return features, label\n",
    "\n",
    "def create_dataset(pattern, batch_size=1, mode='eval'):\n",
    "    dataset = tf.data.experimental.make_csv_dataset(\n",
    "        pattern, batch_size, CSV_COLUMNS, DEFAULTS\n",
    "    )\n",
    "\n",
    "    dataset = dataset.map(features_and_labels)\n",
    "\n",
    "    if mode == 'train':\n",
    "        dataset = dataset.shuffle(buffer_size=1000).repeat()\n",
    "    \n",
    "    dataset = dataset.prefetch(1)\n",
    "\n",
    "    return dataset"
   ]
  },
  {
   "attachments": {},
   "cell_type": "markdown",
   "metadata": {},
   "source": [
    "### Build a simple model"
   ]
  },
  {
   "cell_type": "code",
   "execution_count": 3,
   "metadata": {},
   "outputs": [
    {
     "name": "stdout",
     "output_type": "stream",
     "text": [
      "WARNING:tensorflow:From <ipython-input-3-492212108846>:9: numeric_column (from tensorflow.python.feature_column.feature_column_v2) is deprecated and will be removed in a future version.\n",
      "Instructions for updating:\n",
      "Use Keras preprocessing layers instead, either directly or via the `tf.keras.utils.FeatureSpace` utility. Each of `tf.feature_column.*` has a functional equivalent in `tf.keras.layers` for feature preprocessing when training a Keras model.\n"
     ]
    }
   ],
   "source": [
    "INPUT_COLS = [\n",
    "    \"pickup_longitude\",\n",
    "    \"pickup_latitude\",\n",
    "    \"dropoff_longitude\",\n",
    "    \"dropoff_latitude\",\n",
    "    \"passenger_count\"\n",
    "]\n",
    "\n",
    "feature_columns = {colname: tf.feature_column.numeric_column(colname) for colname in INPUT_COLS}"
   ]
  },
  {
   "cell_type": "code",
   "execution_count": 4,
   "metadata": {},
   "outputs": [],
   "source": [
    "model = Sequential(\n",
    "    [\n",
    "        DenseFeatures(feature_columns=feature_columns.values()),\n",
    "        Dense(units=32, activation='relu', name='h1'),\n",
    "        Dense(units=8, activation='relu', name='h2'),\n",
    "        Dense(units=1, activation='linear', name='output')\n",
    "    ]\n",
    ")"
   ]
  },
  {
   "attachments": {},
   "cell_type": "markdown",
   "metadata": {},
   "source": [
    "Compile method takes three arguments:\n",
    "- An optimizer\n",
    "- A loss function\n",
    "- A list of metrics "
   ]
  },
  {
   "cell_type": "code",
   "execution_count": 5,
   "metadata": {},
   "outputs": [],
   "source": [
    "def rmse(y_true, y_pred):\n",
    "    return tf.sqrt(tf.reduce_mean(tf.square(y_pred-y_true)))\n",
    "\n",
    "model.compile(optimizer='adam', loss='mse', metrics=[rmse, \"mse\"])"
   ]
  },
  {
   "attachments": {},
   "cell_type": "markdown",
   "metadata": {},
   "source": [
    "### Train the model"
   ]
  },
  {
   "attachments": {},
   "cell_type": "markdown",
   "metadata": {},
   "source": [
    "To train the model three functions can be used:\n",
    "- .fit(): fixed number of epochs, small datasets that fit entirely in memory\n",
    "- .fit_generator(): batch data\n",
    "- .train_on_batch(): single gradient update on a single batch of data.\n",
    "\n",
    "The .fit() function works well for small datasets which can fit entirely in memory. However, for large datasets (or if you need to manipulate the training data on the fly via data augmentation, etc) you will need to use .fit_generator() instead. The .train_on_batch() method is for more fine-grained control over training and accepts only a single batch of data.\n",
    "\n",
    "The taxifare dataset we sampled is small enough to fit in memory, so can we could use .fit to train our model. Our create_dataset function above generates batches of training examples, so we could also use .fit_generator. In fact, when calling .fit the method inspects the data, and if it's a generator (as our dataset is) it will invoke automatically .fit_generator for training.\n",
    "\n",
    "We start by setting up some parameters for our training job and create the data generators for the training and validation data."
   ]
  },
  {
   "cell_type": "code",
   "execution_count": 6,
   "metadata": {},
   "outputs": [],
   "source": [
    "TRAIN_BATCH_SIZE = 1000\n",
    "NUM_TRAIN_EXAMPLES = 10000 * 5  # training dataset will repeat, wrap around\n",
    "NUM_EVALS = 50  # how many times to evaluate\n",
    "NUM_EVAL_EXAMPLES = 10000  # enough to get a reasonable sample\n",
    "\n",
    "trainds = create_dataset(\n",
    "    pattern=\"traffic-taxi-train*\", batch_size=TRAIN_BATCH_SIZE, mode=\"train\"\n",
    ")\n",
    "\n",
    "evalds = create_dataset(\n",
    "    pattern=\"traffic-taxi-valid*\", batch_size=1000, mode=\"eval\"\n",
    ").take(NUM_EVAL_EXAMPLES // 1000)"
   ]
  },
  {
   "cell_type": "code",
   "execution_count": 7,
   "metadata": {},
   "outputs": [
    {
     "name": "stdout",
     "output_type": "stream",
     "text": [
      "Wall time: 0 ns\n",
      "WARNING:tensorflow:From c:\\ProgramData\\Anaconda3\\lib\\site-packages\\keras\\feature_column\\base_feature_layer.py:129: serialize_feature_column (from tensorflow.python.feature_column.serialization) is deprecated and will be removed in a future version.\n",
      "Instructions for updating:\n",
      "Use Keras preprocessing layers instead, either directly or via the `tf.keras.utils.FeatureSpace` utility. Each of `tf.feature_column.*` has a functional equivalent in `tf.keras.layers` for feature preprocessing when training a Keras model.\n",
      "Epoch 1/50\n",
      "WARNING:tensorflow:Layers in a Sequential model should only have a single input tensor. Received: inputs=OrderedDict([('pickup_longitude', <tf.Tensor 'IteratorGetNext:4' shape=(1000,) dtype=float32>), ('pickup_latitude', <tf.Tensor 'IteratorGetNext:3' shape=(1000,) dtype=float32>), ('dropoff_longitude', <tf.Tensor 'IteratorGetNext:1' shape=(1000,) dtype=float32>), ('dropoff_latitude', <tf.Tensor 'IteratorGetNext:0' shape=(1000,) dtype=float32>), ('passenger_count', <tf.Tensor 'IteratorGetNext:2' shape=(1000,) dtype=float32>)]). Consider rewriting this model with the Functional API.\n",
      "WARNING:tensorflow:Layers in a Sequential model should only have a single input tensor. Received: inputs=OrderedDict([('pickup_longitude', <tf.Tensor 'IteratorGetNext:4' shape=(1000,) dtype=float32>), ('pickup_latitude', <tf.Tensor 'IteratorGetNext:3' shape=(1000,) dtype=float32>), ('dropoff_longitude', <tf.Tensor 'IteratorGetNext:1' shape=(1000,) dtype=float32>), ('dropoff_latitude', <tf.Tensor 'IteratorGetNext:0' shape=(1000,) dtype=float32>), ('passenger_count', <tf.Tensor 'IteratorGetNext:2' shape=(1000,) dtype=float32>)]). Consider rewriting this model with the Functional API.\n",
      "1/1 [==============================] - ETA: 0s - loss: 251.9912 - rmse: 15.8742 - mse: 251.9912WARNING:tensorflow:Layers in a Sequential model should only have a single input tensor. Received: inputs=OrderedDict([('pickup_longitude', <tf.Tensor 'IteratorGetNext:4' shape=(1000,) dtype=float32>), ('pickup_latitude', <tf.Tensor 'IteratorGetNext:3' shape=(1000,) dtype=float32>), ('dropoff_longitude', <tf.Tensor 'IteratorGetNext:1' shape=(1000,) dtype=float32>), ('dropoff_latitude', <tf.Tensor 'IteratorGetNext:0' shape=(1000,) dtype=float32>), ('passenger_count', <tf.Tensor 'IteratorGetNext:2' shape=(1000,) dtype=float32>)]). Consider rewriting this model with the Functional API.\n",
      "1/1 [==============================] - 15s 15s/step - loss: 251.9912 - rmse: 15.8742 - mse: 251.9912 - val_loss: 205.9541 - val_rmse: 14.3477 - val_mse: 205.9541\n",
      "Epoch 2/50\n",
      "1/1 [==============================] - 1s 1s/step - loss: 194.3232 - rmse: 13.9400 - mse: 194.3232 - val_loss: 165.9519 - val_rmse: 12.8770 - val_mse: 165.9519\n",
      "Epoch 3/50\n",
      "1/1 [==============================] - 1s 890ms/step - loss: 155.0837 - rmse: 12.4533 - mse: 155.0837 - val_loss: 138.0999 - val_rmse: 11.7398 - val_mse: 138.0999\n",
      "Epoch 4/50\n",
      "1/1 [==============================] - 1s 947ms/step - loss: 121.3558 - rmse: 11.0162 - mse: 121.3558 - val_loss: 121.0710 - val_rmse: 10.9944 - val_mse: 121.0710\n",
      "Epoch 5/50\n",
      "1/1 [==============================] - 1s 992ms/step - loss: 91.9209 - rmse: 9.5875 - mse: 91.9209 - val_loss: 110.3948 - val_rmse: 10.5003 - val_mse: 110.3948\n",
      "Epoch 6/50\n",
      "1/1 [==============================] - 1s 868ms/step - loss: 91.0360 - rmse: 9.5413 - mse: 91.0360 - val_loss: 110.6744 - val_rmse: 10.5101 - val_mse: 110.6744\n",
      "Epoch 7/50\n",
      "1/1 [==============================] - 1s 797ms/step - loss: 102.8188 - rmse: 10.1400 - mse: 102.8188 - val_loss: 115.9283 - val_rmse: 10.7499 - val_mse: 115.9283\n",
      "Epoch 8/50\n",
      "1/1 [==============================] - 1s 693ms/step - loss: 87.8043 - rmse: 9.3704 - mse: 87.8043 - val_loss: 124.4865 - val_rmse: 11.1367 - val_mse: 124.4865\n",
      "Epoch 9/50\n",
      "1/1 [==============================] - 1s 748ms/step - loss: 117.6287 - rmse: 10.8457 - mse: 117.6287 - val_loss: 133.1264 - val_rmse: 11.5165 - val_mse: 133.1264\n",
      "Epoch 10/50\n",
      "1/1 [==============================] - 1s 660ms/step - loss: 94.2405 - rmse: 9.7078 - mse: 94.2405 - val_loss: 136.0322 - val_rmse: 11.6368 - val_mse: 136.0322\n",
      "Epoch 11/50\n",
      "1/1 [==============================] - 1s 633ms/step - loss: 124.8692 - rmse: 11.1745 - mse: 124.8692 - val_loss: 139.1228 - val_rmse: 11.7856 - val_mse: 139.1228\n",
      "Epoch 12/50\n",
      "1/1 [==============================] - 1s 597ms/step - loss: 110.1895 - rmse: 10.4971 - mse: 110.1895 - val_loss: 140.1355 - val_rmse: 11.8302 - val_mse: 140.1355\n",
      "Epoch 13/50\n",
      "1/1 [==============================] - 1s 803ms/step - loss: 131.7483 - rmse: 11.4782 - mse: 131.7483 - val_loss: 137.6260 - val_rmse: 11.7217 - val_mse: 137.6260\n",
      "Epoch 14/50\n",
      "1/1 [==============================] - 1s 1s/step - loss: 102.8032 - rmse: 10.1392 - mse: 102.8032 - val_loss: 131.1247 - val_rmse: 11.4305 - val_mse: 131.1247\n",
      "Epoch 15/50\n",
      "1/1 [==============================] - 1s 927ms/step - loss: 118.5201 - rmse: 10.8867 - mse: 118.5201 - val_loss: 125.0558 - val_rmse: 11.1666 - val_mse: 125.0558\n",
      "Epoch 16/50\n",
      "1/1 [==============================] - 1s 769ms/step - loss: 99.1224 - rmse: 9.9560 - mse: 99.1224 - val_loss: 119.6155 - val_rmse: 10.9313 - val_mse: 119.6155\n",
      "Epoch 17/50\n",
      "1/1 [==============================] - 1s 709ms/step - loss: 94.9918 - rmse: 9.7464 - mse: 94.9918 - val_loss: 116.9932 - val_rmse: 10.8001 - val_mse: 116.9932\n",
      "Epoch 18/50\n",
      "1/1 [==============================] - 1s 663ms/step - loss: 98.5732 - rmse: 9.9284 - mse: 98.5732 - val_loss: 112.0113 - val_rmse: 10.5445 - val_mse: 112.0113\n",
      "Epoch 19/50\n",
      "1/1 [==============================] - 1s 655ms/step - loss: 93.7659 - rmse: 9.6833 - mse: 93.7659 - val_loss: 112.4743 - val_rmse: 10.5938 - val_mse: 112.4743\n",
      "Epoch 20/50\n",
      "1/1 [==============================] - 1s 684ms/step - loss: 78.7228 - rmse: 8.8726 - mse: 78.7228 - val_loss: 112.3360 - val_rmse: 10.5839 - val_mse: 112.3360\n",
      "Epoch 21/50\n",
      "1/1 [==============================] - 1s 710ms/step - loss: 93.4368 - rmse: 9.6663 - mse: 93.4368 - val_loss: 111.7726 - val_rmse: 10.5625 - val_mse: 111.7726\n",
      "Epoch 22/50\n",
      "1/1 [==============================] - 1s 925ms/step - loss: 91.5201 - rmse: 9.5666 - mse: 91.5201 - val_loss: 113.3448 - val_rmse: 10.6299 - val_mse: 113.3448\n",
      "Epoch 23/50\n",
      "1/1 [==============================] - 1s 896ms/step - loss: 94.9240 - rmse: 9.7429 - mse: 94.9240 - val_loss: 113.3617 - val_rmse: 10.6362 - val_mse: 113.3617\n",
      "Epoch 24/50\n",
      "1/1 [==============================] - 1s 738ms/step - loss: 80.7584 - rmse: 8.9866 - mse: 80.7584 - val_loss: 114.2706 - val_rmse: 10.6785 - val_mse: 114.2706\n",
      "Epoch 25/50\n",
      "1/1 [==============================] - 1s 730ms/step - loss: 111.7923 - rmse: 10.5732 - mse: 111.7923 - val_loss: 114.2925 - val_rmse: 10.6667 - val_mse: 114.2925\n",
      "Epoch 26/50\n",
      "1/1 [==============================] - 1s 1s/step - loss: 123.6426 - rmse: 11.1195 - mse: 123.6426 - val_loss: 115.0191 - val_rmse: 10.7111 - val_mse: 115.0191\n",
      "Epoch 27/50\n",
      "1/1 [==============================] - 1s 841ms/step - loss: 109.7361 - rmse: 10.4755 - mse: 109.7361 - val_loss: 112.5774 - val_rmse: 10.5987 - val_mse: 112.5774\n",
      "Epoch 28/50\n",
      "1/1 [==============================] - 1s 780ms/step - loss: 83.4645 - rmse: 9.1359 - mse: 83.4645 - val_loss: 113.3200 - val_rmse: 10.6305 - val_mse: 113.3200\n",
      "Epoch 29/50\n",
      "1/1 [==============================] - 1s 1s/step - loss: 131.9142 - rmse: 11.4854 - mse: 131.9142 - val_loss: 112.6451 - val_rmse: 10.5989 - val_mse: 112.6451\n",
      "Epoch 30/50\n",
      "1/1 [==============================] - 1s 1s/step - loss: 94.5383 - rmse: 9.7231 - mse: 94.5383 - val_loss: 110.6309 - val_rmse: 10.5085 - val_mse: 110.6309\n",
      "Epoch 31/50\n",
      "1/1 [==============================] - 1s 1s/step - loss: 93.6239 - rmse: 9.6759 - mse: 93.6239 - val_loss: 110.3631 - val_rmse: 10.4921 - val_mse: 110.3631\n",
      "Epoch 32/50\n",
      "1/1 [==============================] - 1s 890ms/step - loss: 90.9426 - rmse: 9.5364 - mse: 90.9426 - val_loss: 111.5398 - val_rmse: 10.5470 - val_mse: 111.5398\n",
      "Epoch 33/50\n",
      "1/1 [==============================] - 1s 780ms/step - loss: 117.9259 - rmse: 10.8594 - mse: 117.9259 - val_loss: 110.9547 - val_rmse: 10.4895 - val_mse: 110.9547\n",
      "Epoch 34/50\n",
      "1/1 [==============================] - 1s 865ms/step - loss: 107.4149 - rmse: 10.3641 - mse: 107.4149 - val_loss: 111.7890 - val_rmse: 10.5431 - val_mse: 111.7890\n",
      "Epoch 35/50\n",
      "1/1 [==============================] - 1s 1s/step - loss: 89.5971 - rmse: 9.4656 - mse: 89.5971 - val_loss: 112.5588 - val_rmse: 10.5960 - val_mse: 112.5588\n",
      "Epoch 36/50\n",
      "1/1 [==============================] - 1s 1s/step - loss: 82.7676 - rmse: 9.0977 - mse: 82.7676 - val_loss: 112.0360 - val_rmse: 10.5755 - val_mse: 112.0360\n",
      "Epoch 37/50\n",
      "1/1 [==============================] - 1s 1s/step - loss: 85.7016 - rmse: 9.2575 - mse: 85.7016 - val_loss: 111.3291 - val_rmse: 10.5366 - val_mse: 111.3291\n",
      "Epoch 38/50\n",
      "1/1 [==============================] - 2s 2s/step - loss: 86.6949 - rmse: 9.3110 - mse: 86.6949 - val_loss: 114.1697 - val_rmse: 10.6622 - val_mse: 114.1697\n",
      "Epoch 39/50\n",
      "1/1 [==============================] - 2s 2s/step - loss: 57.3725 - rmse: 7.5745 - mse: 57.3725 - val_loss: 114.0388 - val_rmse: 10.6603 - val_mse: 114.0388\n",
      "Epoch 40/50\n",
      "1/1 [==============================] - 2s 2s/step - loss: 84.5506 - rmse: 9.1951 - mse: 84.5506 - val_loss: 114.1400 - val_rmse: 10.6751 - val_mse: 114.1400\n",
      "Epoch 41/50\n",
      "1/1 [==============================] - 5s 5s/step - loss: 99.6259 - rmse: 9.9813 - mse: 99.6259 - val_loss: 113.2939 - val_rmse: 10.6216 - val_mse: 113.2939\n",
      "Epoch 42/50\n",
      "1/1 [==============================] - 3s 3s/step - loss: 105.1129 - rmse: 10.2525 - mse: 105.1129 - val_loss: 113.5786 - val_rmse: 10.6516 - val_mse: 113.5786\n",
      "Epoch 43/50\n",
      "1/1 [==============================] - 3s 3s/step - loss: 101.0473 - rmse: 10.0522 - mse: 101.0473 - val_loss: 112.7346 - val_rmse: 10.6005 - val_mse: 112.7346\n",
      "Epoch 44/50\n",
      "1/1 [==============================] - 3s 3s/step - loss: 92.7141 - rmse: 9.6288 - mse: 92.7141 - val_loss: 112.4580 - val_rmse: 10.5870 - val_mse: 112.4580\n",
      "Epoch 45/50\n",
      "1/1 [==============================] - 3s 3s/step - loss: 80.3522 - rmse: 8.9639 - mse: 80.3522 - val_loss: 111.4341 - val_rmse: 10.5426 - val_mse: 111.4341\n",
      "Epoch 46/50\n",
      "1/1 [==============================] - 3s 3s/step - loss: 91.8272 - rmse: 9.5827 - mse: 91.8272 - val_loss: 111.5795 - val_rmse: 10.5394 - val_mse: 111.5795\n",
      "Epoch 47/50\n",
      "1/1 [==============================] - 3s 3s/step - loss: 58.9168 - rmse: 7.6757 - mse: 58.9168 - val_loss: 112.3966 - val_rmse: 10.5955 - val_mse: 112.3966\n",
      "Epoch 48/50\n",
      "1/1 [==============================] - 3s 3s/step - loss: 110.6738 - rmse: 10.5202 - mse: 110.6738 - val_loss: 110.4378 - val_rmse: 10.4988 - val_mse: 110.4378\n",
      "Epoch 49/50\n",
      "1/1 [==============================] - 2s 2s/step - loss: 114.2764 - rmse: 10.6900 - mse: 114.2764 - val_loss: 111.4727 - val_rmse: 10.5463 - val_mse: 111.4727\n",
      "Epoch 50/50\n",
      "1/1 [==============================] - 1s 571ms/step - loss: 108.9157 - rmse: 10.4363 - mse: 108.9157 - val_loss: 110.4165 - val_rmse: 10.4957 - val_mse: 110.4165\n"
     ]
    }
   ],
   "source": [
    "%time\n",
    "steps_per_epoch = NUM_TRAIN_EXAMPLES // (TRAIN_BATCH_SIZE * NUM_EVALS)\n",
    "\n",
    "LOGDIR = \"./taxi_trained\"\n",
    "history = model.fit(\n",
    "    x=trainds,\n",
    "    steps_per_epoch=steps_per_epoch,\n",
    "    epochs=NUM_EVALS,\n",
    "    validation_data=evalds,\n",
    "    callbacks=[TensorBoard(LOGDIR)],\n",
    ")"
   ]
  },
  {
   "attachments": {},
   "cell_type": "markdown",
   "metadata": {},
   "source": [
    "### High-level model evaluation"
   ]
  },
  {
   "cell_type": "code",
   "execution_count": 8,
   "metadata": {},
   "outputs": [
    {
     "name": "stdout",
     "output_type": "stream",
     "text": [
      "Model: \"sequential\"\n",
      "_________________________________________________________________\n",
      " Layer (type)                Output Shape              Param #   \n",
      "=================================================================\n",
      " dense_features (DenseFeatur  multiple                 0         \n",
      " es)                                                             \n",
      "                                                                 \n",
      " h1 (Dense)                  multiple                  192       \n",
      "                                                                 \n",
      " h2 (Dense)                  multiple                  264       \n",
      "                                                                 \n",
      " output (Dense)              multiple                  9         \n",
      "                                                                 \n",
      "=================================================================\n",
      "Total params: 465\n",
      "Trainable params: 465\n",
      "Non-trainable params: 0\n",
      "_________________________________________________________________\n"
     ]
    }
   ],
   "source": [
    "\n",
    "model.summary()\n"
   ]
  },
  {
   "cell_type": "code",
   "execution_count": 19,
   "metadata": {},
   "outputs": [
    {
     "data": {
      "text/plain": [
       "<AxesSubplot:>"
      ]
     },
     "execution_count": 19,
     "metadata": {},
     "output_type": "execute_result"
    },
    {
     "data": {
      "image/png": "[encoded data removed]",
      "text/plain": [
       "<Figure size 432x288 with 1 Axes>"
      ]
     },
     "metadata": {
      "needs_background": "light"
     },
     "output_type": "display_data"
    }
   ],
   "source": [
    "RMSE_COLS = [\"rmse\", \"val_rmse\"]\n",
    "\n",
    "pd.DataFrame(history.history)[RMSE_COLS].plot()\n"
   ]
  },
  {
   "cell_type": "code",
   "execution_count": 20,
   "metadata": {},
   "outputs": [
    {
     "data": {
      "text/plain": [
       "<AxesSubplot:>"
      ]
     },
     "execution_count": 20,
     "metadata": {},
     "output_type": "execute_result"
    },
    {
     "data": {
      "image/png": "[encoded data removed]",
      "text/plain": [
       "<Figure size 432x288 with 1 Axes>"
      ]
     },
     "metadata": {
      "needs_background": "light"
     },
     "output_type": "display_data"
    }
   ],
   "source": [
    "LOSS_COLS = [\"loss\", \"val_loss\"]\n",
    "\n",
    "pd.DataFrame(history.history)[LOSS_COLS].plot()"
   ]
  },
  {
   "cell_type": "code",
   "execution_count": null,
   "metadata": {},
   "outputs": [],
   "source": []
  }
 ],
 "metadata": {
  "kernelspec": {
   "display_name": "base",
   "language": "python",
   "name": "python3"
  },
  "language_info": {
   "codemirror_mode": {
    "name": "ipython",
    "version": 3
   },
   "file_extension": ".py",
   "mimetype": "text/x-python",
   "name": "python",
   "nbconvert_exporter": "python",
   "pygments_lexer": "ipython3",
   "version": "3.8.8"
  },
  "orig_nbformat": 4
 },
 "nbformat": 4,
 "nbformat_minor": 2
}
